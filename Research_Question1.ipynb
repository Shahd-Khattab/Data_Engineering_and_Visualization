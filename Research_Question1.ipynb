{
  "cells": [
    {
      "cell_type": "markdown",
      "metadata": {
        "id": "x8qBU4JXehj5"
      },
      "source": [
        "\n",
        "\n",
        "\n",
        "\n",
        "**The difference between Automaic and Manual in prices and power on the most 2 frequent types of cars used:**"
      ]
    },
    {
      "cell_type": "code",
      "execution_count": null,
      "metadata": {
        "id": "SC77ImPRXcpS"
      },
      "outputs": [],
      "source": [
        "import pandas as pd\n",
        "import numpy as np\n",
        "import seaborn as sns\n",
        "import matplotlib.pyplot as plt\n",
        "from sklearn.impute import SimpleImputer\n",
        "from sklearn.experimental import enable_iterative_imputer\n",
        "from sklearn.impute import IterativeImputer\n",
        "from statistics import *"
      ]
    },
    {
      "cell_type": "code",
      "execution_count": null,
      "metadata": {
        "id": "tiY7Ta1EX8mG"
      },
      "outputs": [],
      "source": [
        "#Reading the data \n",
        "data = pd.read_csv('/content/Car_sale_ads.csv')"
      ]
    },
    {
      "cell_type": "code",
      "execution_count": null,
      "metadata": {
        "colab": {
          "base_uri": "https://localhost:8080/",
          "height": 1000
        },
        "id": "CEquEuthhFf5",
        "outputId": "af939501-d350-47cc-a68a-b29f39c577e0"
      },
      "outputs": [
        {
          "output_type": "execute_result",
          "data": {
            "text/plain": [
              "         Index  Price Currency Condition Vehicle_brand Vehicle_model  \\\n",
              "0            0  86200      PLN       New        Abarth           595   \n",
              "1            1  43500      PLN      Used        Abarth         Other   \n",
              "2            2  44900      PLN      Used        Abarth           500   \n",
              "3            3  39900      PLN      Used        Abarth           500   \n",
              "4            4  97900      PLN       New        Abarth           595   \n",
              "...        ...    ...      ...       ...           ...           ...   \n",
              "208299  208299  39900      PLN      Used           Żuk         Other   \n",
              "208300  208300  10900      PLN      Used           Żuk         Other   \n",
              "208301  208301   6900      PLN      Used           Żuk         Other   \n",
              "208302  208302   5700      PLN      Used           Żuk         Other   \n",
              "208303  208303  11900      PLN      Used           Żuk         Other   \n",
              "\n",
              "       Vehicle_version Vehicle_generation  Production_year  Mileage_km  ...  \\\n",
              "0                  NaN                NaN             2021         1.0  ...   \n",
              "1                  NaN                NaN             1974     59000.0  ...   \n",
              "2                  NaN                NaN             2018     52000.0  ...   \n",
              "3                  NaN                NaN             2012     29000.0  ...   \n",
              "4                  NaN                NaN             2021       600.0  ...   \n",
              "...                ...                ...              ...         ...  ...   \n",
              "208299             NaN                NaN             2014     40000.0  ...   \n",
              "208300             NaN                NaN             1970     63518.0  ...   \n",
              "208301             NaN                NaN             1977     11880.0  ...   \n",
              "208302             NaN                NaN             1986    100000.0  ...   \n",
              "208303             NaN                NaN             1985     20056.0  ...   \n",
              "\n",
              "        Transmission           Type Doors_number  Colour Origin_country  \\\n",
              "0             Manual     small_cars          3.0    gray            NaN   \n",
              "1             Manual          coupe          2.0  silver            NaN   \n",
              "2          Automatic     small_cars          3.0  silver            NaN   \n",
              "3             Manual     small_cars          3.0    gray            NaN   \n",
              "4             Manual     small_cars          3.0    blue            NaN   \n",
              "...              ...            ...          ...     ...            ...   \n",
              "208299        Manual     small_cars          1.0   other            NaN   \n",
              "208300        Manual  station_wagon          4.0   other         Poland   \n",
              "208301        Manual            SUV          3.0     red            NaN   \n",
              "208302        Manual        minivan          2.0    blue            NaN   \n",
              "208303        Manual        minivan          3.0     red            NaN   \n",
              "\n",
              "       First_owner First_registration_date  Offer_publication_date  \\\n",
              "0              NaN                     NaN              04/05/2021   \n",
              "1              NaN                     NaN              03/05/2021   \n",
              "2              NaN                     NaN              03/05/2021   \n",
              "3              NaN                     NaN              30/04/2021   \n",
              "4              NaN                     NaN              30/04/2021   \n",
              "...            ...                     ...                     ...   \n",
              "208299         NaN                     NaN              30/04/2021   \n",
              "208300         NaN                     NaN              02/05/2021   \n",
              "208301         NaN              11/06/1977              28/04/2021   \n",
              "208302         NaN                     NaN              24/04/2021   \n",
              "208303         NaN                     NaN              04/05/2021   \n",
              "\n",
              "                                           Offer_location  \\\n",
              "0       ul. Jubilerska 6 - 04-190 Warszawa, Mazowiecki...   \n",
              "1       kanonierska12 - 04-425 Warszawa, Rembertów (Po...   \n",
              "2                        Warszawa, Mazowieckie, Białołęka   \n",
              "3                                       Jaworzno, Śląskie   \n",
              "4       ul. Gorzysława 9 - 61-057 Poznań, Nowe Miasto ...   \n",
              "...                                                   ...   \n",
              "208299  ul. Huzarska 12 - 47-400 Racibórz, raciborski,...   \n",
              "208300                      Włocławek, Kujawsko-pomorskie   \n",
              "208301                   Złotów, złotowski, Wielkopolskie   \n",
              "208302                  Kraczkowa, łańcucki, Podkarpackie   \n",
              "208303  Szczecińska 40 - 75-137 Koszalin, Zachodniopom...   \n",
              "\n",
              "                                                 Features  \n",
              "0                                                      []  \n",
              "1                                                      []  \n",
              "2       ['ABS', 'Electric front windows', 'Drivers air...  \n",
              "3       ['ABS', 'Electric front windows', 'Drivers air...  \n",
              "4       ['ABS', 'Electrically adjustable mirrors', 'Pa...  \n",
              "...                                                   ...  \n",
              "208299                                                 []  \n",
              "208300                                                 []  \n",
              "208301                                                 []  \n",
              "208302                                                 []  \n",
              "208303                                                 []  \n",
              "\n",
              "[208304 rows x 25 columns]"
            ],
            "text/html": [
              "\n",
              "  <div id=\"df-53ccdd93-c130-4d4c-b701-df1dd98fe9a8\">\n",
              "    <div class=\"colab-df-container\">\n",
              "      <div>\n",
              "<style scoped>\n",
              "    .dataframe tbody tr th:only-of-type {\n",
              "        vertical-align: middle;\n",
              "    }\n",
              "\n",
              "    .dataframe tbody tr th {\n",
              "        vertical-align: top;\n",
              "    }\n",
              "\n",
              "    .dataframe thead th {\n",
              "        text-align: right;\n",
              "    }\n",
              "</style>\n",
              "<table border=\"1\" class=\"dataframe\">\n",
              "  <thead>\n",
              "    <tr style=\"text-align: right;\">\n",
              "      <th></th>\n",
              "      <th>Index</th>\n",
              "      <th>Price</th>\n",
              "      <th>Currency</th>\n",
              "      <th>Condition</th>\n",
              "      <th>Vehicle_brand</th>\n",
              "      <th>Vehicle_model</th>\n",
              "      <th>Vehicle_version</th>\n",
              "      <th>Vehicle_generation</th>\n",
              "      <th>Production_year</th>\n",
              "      <th>Mileage_km</th>\n",
              "      <th>...</th>\n",
              "      <th>Transmission</th>\n",
              "      <th>Type</th>\n",
              "      <th>Doors_number</th>\n",
              "      <th>Colour</th>\n",
              "      <th>Origin_country</th>\n",
              "      <th>First_owner</th>\n",
              "      <th>First_registration_date</th>\n",
              "      <th>Offer_publication_date</th>\n",
              "      <th>Offer_location</th>\n",
              "      <th>Features</th>\n",
              "    </tr>\n",
              "  </thead>\n",
              "  <tbody>\n",
              "    <tr>\n",
              "      <th>0</th>\n",
              "      <td>0</td>\n",
              "      <td>86200</td>\n",
              "      <td>PLN</td>\n",
              "      <td>New</td>\n",
              "      <td>Abarth</td>\n",
              "      <td>595</td>\n",
              "      <td>NaN</td>\n",
              "      <td>NaN</td>\n",
              "      <td>2021</td>\n",
              "      <td>1.0</td>\n",
              "      <td>...</td>\n",
              "      <td>Manual</td>\n",
              "      <td>small_cars</td>\n",
              "      <td>3.0</td>\n",
              "      <td>gray</td>\n",
              "      <td>NaN</td>\n",
              "      <td>NaN</td>\n",
              "      <td>NaN</td>\n",
              "      <td>04/05/2021</td>\n",
              "      <td>ul. Jubilerska 6 - 04-190 Warszawa, Mazowiecki...</td>\n",
              "      <td>[]</td>\n",
              "    </tr>\n",
              "    <tr>\n",
              "      <th>1</th>\n",
              "      <td>1</td>\n",
              "      <td>43500</td>\n",
              "      <td>PLN</td>\n",
              "      <td>Used</td>\n",
              "      <td>Abarth</td>\n",
              "      <td>Other</td>\n",
              "      <td>NaN</td>\n",
              "      <td>NaN</td>\n",
              "      <td>1974</td>\n",
              "      <td>59000.0</td>\n",
              "      <td>...</td>\n",
              "      <td>Manual</td>\n",
              "      <td>coupe</td>\n",
              "      <td>2.0</td>\n",
              "      <td>silver</td>\n",
              "      <td>NaN</td>\n",
              "      <td>NaN</td>\n",
              "      <td>NaN</td>\n",
              "      <td>03/05/2021</td>\n",
              "      <td>kanonierska12 - 04-425 Warszawa, Rembertów (Po...</td>\n",
              "      <td>[]</td>\n",
              "    </tr>\n",
              "    <tr>\n",
              "      <th>2</th>\n",
              "      <td>2</td>\n",
              "      <td>44900</td>\n",
              "      <td>PLN</td>\n",
              "      <td>Used</td>\n",
              "      <td>Abarth</td>\n",
              "      <td>500</td>\n",
              "      <td>NaN</td>\n",
              "      <td>NaN</td>\n",
              "      <td>2018</td>\n",
              "      <td>52000.0</td>\n",
              "      <td>...</td>\n",
              "      <td>Automatic</td>\n",
              "      <td>small_cars</td>\n",
              "      <td>3.0</td>\n",
              "      <td>silver</td>\n",
              "      <td>NaN</td>\n",
              "      <td>NaN</td>\n",
              "      <td>NaN</td>\n",
              "      <td>03/05/2021</td>\n",
              "      <td>Warszawa, Mazowieckie, Białołęka</td>\n",
              "      <td>['ABS', 'Electric front windows', 'Drivers air...</td>\n",
              "    </tr>\n",
              "    <tr>\n",
              "      <th>3</th>\n",
              "      <td>3</td>\n",
              "      <td>39900</td>\n",
              "      <td>PLN</td>\n",
              "      <td>Used</td>\n",
              "      <td>Abarth</td>\n",
              "      <td>500</td>\n",
              "      <td>NaN</td>\n",
              "      <td>NaN</td>\n",
              "      <td>2012</td>\n",
              "      <td>29000.0</td>\n",
              "      <td>...</td>\n",
              "      <td>Manual</td>\n",
              "      <td>small_cars</td>\n",
              "      <td>3.0</td>\n",
              "      <td>gray</td>\n",
              "      <td>NaN</td>\n",
              "      <td>NaN</td>\n",
              "      <td>NaN</td>\n",
              "      <td>30/04/2021</td>\n",
              "      <td>Jaworzno, Śląskie</td>\n",
              "      <td>['ABS', 'Electric front windows', 'Drivers air...</td>\n",
              "    </tr>\n",
              "    <tr>\n",
              "      <th>4</th>\n",
              "      <td>4</td>\n",
              "      <td>97900</td>\n",
              "      <td>PLN</td>\n",
              "      <td>New</td>\n",
              "      <td>Abarth</td>\n",
              "      <td>595</td>\n",
              "      <td>NaN</td>\n",
              "      <td>NaN</td>\n",
              "      <td>2021</td>\n",
              "      <td>600.0</td>\n",
              "      <td>...</td>\n",
              "      <td>Manual</td>\n",
              "      <td>small_cars</td>\n",
              "      <td>3.0</td>\n",
              "      <td>blue</td>\n",
              "      <td>NaN</td>\n",
              "      <td>NaN</td>\n",
              "      <td>NaN</td>\n",
              "      <td>30/04/2021</td>\n",
              "      <td>ul. Gorzysława 9 - 61-057 Poznań, Nowe Miasto ...</td>\n",
              "      <td>['ABS', 'Electrically adjustable mirrors', 'Pa...</td>\n",
              "    </tr>\n",
              "    <tr>\n",
              "      <th>...</th>\n",
              "      <td>...</td>\n",
              "      <td>...</td>\n",
              "      <td>...</td>\n",
              "      <td>...</td>\n",
              "      <td>...</td>\n",
              "      <td>...</td>\n",
              "      <td>...</td>\n",
              "      <td>...</td>\n",
              "      <td>...</td>\n",
              "      <td>...</td>\n",
              "      <td>...</td>\n",
              "      <td>...</td>\n",
              "      <td>...</td>\n",
              "      <td>...</td>\n",
              "      <td>...</td>\n",
              "      <td>...</td>\n",
              "      <td>...</td>\n",
              "      <td>...</td>\n",
              "      <td>...</td>\n",
              "      <td>...</td>\n",
              "      <td>...</td>\n",
              "    </tr>\n",
              "    <tr>\n",
              "      <th>208299</th>\n",
              "      <td>208299</td>\n",
              "      <td>39900</td>\n",
              "      <td>PLN</td>\n",
              "      <td>Used</td>\n",
              "      <td>Żuk</td>\n",
              "      <td>Other</td>\n",
              "      <td>NaN</td>\n",
              "      <td>NaN</td>\n",
              "      <td>2014</td>\n",
              "      <td>40000.0</td>\n",
              "      <td>...</td>\n",
              "      <td>Manual</td>\n",
              "      <td>small_cars</td>\n",
              "      <td>1.0</td>\n",
              "      <td>other</td>\n",
              "      <td>NaN</td>\n",
              "      <td>NaN</td>\n",
              "      <td>NaN</td>\n",
              "      <td>30/04/2021</td>\n",
              "      <td>ul. Huzarska 12 - 47-400 Racibórz, raciborski,...</td>\n",
              "      <td>[]</td>\n",
              "    </tr>\n",
              "    <tr>\n",
              "      <th>208300</th>\n",
              "      <td>208300</td>\n",
              "      <td>10900</td>\n",
              "      <td>PLN</td>\n",
              "      <td>Used</td>\n",
              "      <td>Żuk</td>\n",
              "      <td>Other</td>\n",
              "      <td>NaN</td>\n",
              "      <td>NaN</td>\n",
              "      <td>1970</td>\n",
              "      <td>63518.0</td>\n",
              "      <td>...</td>\n",
              "      <td>Manual</td>\n",
              "      <td>station_wagon</td>\n",
              "      <td>4.0</td>\n",
              "      <td>other</td>\n",
              "      <td>Poland</td>\n",
              "      <td>NaN</td>\n",
              "      <td>NaN</td>\n",
              "      <td>02/05/2021</td>\n",
              "      <td>Włocławek, Kujawsko-pomorskie</td>\n",
              "      <td>[]</td>\n",
              "    </tr>\n",
              "    <tr>\n",
              "      <th>208301</th>\n",
              "      <td>208301</td>\n",
              "      <td>6900</td>\n",
              "      <td>PLN</td>\n",
              "      <td>Used</td>\n",
              "      <td>Żuk</td>\n",
              "      <td>Other</td>\n",
              "      <td>NaN</td>\n",
              "      <td>NaN</td>\n",
              "      <td>1977</td>\n",
              "      <td>11880.0</td>\n",
              "      <td>...</td>\n",
              "      <td>Manual</td>\n",
              "      <td>SUV</td>\n",
              "      <td>3.0</td>\n",
              "      <td>red</td>\n",
              "      <td>NaN</td>\n",
              "      <td>NaN</td>\n",
              "      <td>11/06/1977</td>\n",
              "      <td>28/04/2021</td>\n",
              "      <td>Złotów, złotowski, Wielkopolskie</td>\n",
              "      <td>[]</td>\n",
              "    </tr>\n",
              "    <tr>\n",
              "      <th>208302</th>\n",
              "      <td>208302</td>\n",
              "      <td>5700</td>\n",
              "      <td>PLN</td>\n",
              "      <td>Used</td>\n",
              "      <td>Żuk</td>\n",
              "      <td>Other</td>\n",
              "      <td>NaN</td>\n",
              "      <td>NaN</td>\n",
              "      <td>1986</td>\n",
              "      <td>100000.0</td>\n",
              "      <td>...</td>\n",
              "      <td>Manual</td>\n",
              "      <td>minivan</td>\n",
              "      <td>2.0</td>\n",
              "      <td>blue</td>\n",
              "      <td>NaN</td>\n",
              "      <td>NaN</td>\n",
              "      <td>NaN</td>\n",
              "      <td>24/04/2021</td>\n",
              "      <td>Kraczkowa, łańcucki, Podkarpackie</td>\n",
              "      <td>[]</td>\n",
              "    </tr>\n",
              "    <tr>\n",
              "      <th>208303</th>\n",
              "      <td>208303</td>\n",
              "      <td>11900</td>\n",
              "      <td>PLN</td>\n",
              "      <td>Used</td>\n",
              "      <td>Żuk</td>\n",
              "      <td>Other</td>\n",
              "      <td>NaN</td>\n",
              "      <td>NaN</td>\n",
              "      <td>1985</td>\n",
              "      <td>20056.0</td>\n",
              "      <td>...</td>\n",
              "      <td>Manual</td>\n",
              "      <td>minivan</td>\n",
              "      <td>3.0</td>\n",
              "      <td>red</td>\n",
              "      <td>NaN</td>\n",
              "      <td>NaN</td>\n",
              "      <td>NaN</td>\n",
              "      <td>04/05/2021</td>\n",
              "      <td>Szczecińska 40 - 75-137 Koszalin, Zachodniopom...</td>\n",
              "      <td>[]</td>\n",
              "    </tr>\n",
              "  </tbody>\n",
              "</table>\n",
              "<p>208304 rows × 25 columns</p>\n",
              "</div>\n",
              "      <button class=\"colab-df-convert\" onclick=\"convertToInteractive('df-53ccdd93-c130-4d4c-b701-df1dd98fe9a8')\"\n",
              "              title=\"Convert this dataframe to an interactive table.\"\n",
              "              style=\"display:none;\">\n",
              "        \n",
              "  <svg xmlns=\"http://www.w3.org/2000/svg\" height=\"24px\"viewBox=\"0 0 24 24\"\n",
              "       width=\"24px\">\n",
              "    <path d=\"M0 0h24v24H0V0z\" fill=\"none\"/>\n",
              "    <path d=\"M18.56 5.44l.94 2.06.94-2.06 2.06-.94-2.06-.94-.94-2.06-.94 2.06-2.06.94zm-11 1L8.5 8.5l.94-2.06 2.06-.94-2.06-.94L8.5 2.5l-.94 2.06-2.06.94zm10 10l.94 2.06.94-2.06 2.06-.94-2.06-.94-.94-2.06-.94 2.06-2.06.94z\"/><path d=\"M17.41 7.96l-1.37-1.37c-.4-.4-.92-.59-1.43-.59-.52 0-1.04.2-1.43.59L10.3 9.45l-7.72 7.72c-.78.78-.78 2.05 0 2.83L4 21.41c.39.39.9.59 1.41.59.51 0 1.02-.2 1.41-.59l7.78-7.78 2.81-2.81c.8-.78.8-2.07 0-2.86zM5.41 20L4 18.59l7.72-7.72 1.47 1.35L5.41 20z\"/>\n",
              "  </svg>\n",
              "      </button>\n",
              "      \n",
              "  <style>\n",
              "    .colab-df-container {\n",
              "      display:flex;\n",
              "      flex-wrap:wrap;\n",
              "      gap: 12px;\n",
              "    }\n",
              "\n",
              "    .colab-df-convert {\n",
              "      background-color: #E8F0FE;\n",
              "      border: none;\n",
              "      border-radius: 50%;\n",
              "      cursor: pointer;\n",
              "      display: none;\n",
              "      fill: #1967D2;\n",
              "      height: 32px;\n",
              "      padding: 0 0 0 0;\n",
              "      width: 32px;\n",
              "    }\n",
              "\n",
              "    .colab-df-convert:hover {\n",
              "      background-color: #E2EBFA;\n",
              "      box-shadow: 0px 1px 2px rgba(60, 64, 67, 0.3), 0px 1px 3px 1px rgba(60, 64, 67, 0.15);\n",
              "      fill: #174EA6;\n",
              "    }\n",
              "\n",
              "    [theme=dark] .colab-df-convert {\n",
              "      background-color: #3B4455;\n",
              "      fill: #D2E3FC;\n",
              "    }\n",
              "\n",
              "    [theme=dark] .colab-df-convert:hover {\n",
              "      background-color: #434B5C;\n",
              "      box-shadow: 0px 1px 3px 1px rgba(0, 0, 0, 0.15);\n",
              "      filter: drop-shadow(0px 1px 2px rgba(0, 0, 0, 0.3));\n",
              "      fill: #FFFFFF;\n",
              "    }\n",
              "  </style>\n",
              "\n",
              "      <script>\n",
              "        const buttonEl =\n",
              "          document.querySelector('#df-53ccdd93-c130-4d4c-b701-df1dd98fe9a8 button.colab-df-convert');\n",
              "        buttonEl.style.display =\n",
              "          google.colab.kernel.accessAllowed ? 'block' : 'none';\n",
              "\n",
              "        async function convertToInteractive(key) {\n",
              "          const element = document.querySelector('#df-53ccdd93-c130-4d4c-b701-df1dd98fe9a8');\n",
              "          const dataTable =\n",
              "            await google.colab.kernel.invokeFunction('convertToInteractive',\n",
              "                                                     [key], {});\n",
              "          if (!dataTable) return;\n",
              "\n",
              "          const docLinkHtml = 'Like what you see? Visit the ' +\n",
              "            '<a target=\"_blank\" href=https://colab.research.google.com/notebooks/data_table.ipynb>data table notebook</a>'\n",
              "            + ' to learn more about interactive tables.';\n",
              "          element.innerHTML = '';\n",
              "          dataTable['output_type'] = 'display_data';\n",
              "          await google.colab.output.renderOutput(dataTable, element);\n",
              "          const docLink = document.createElement('div');\n",
              "          docLink.innerHTML = docLinkHtml;\n",
              "          element.appendChild(docLink);\n",
              "        }\n",
              "      </script>\n",
              "    </div>\n",
              "  </div>\n",
              "  "
            ]
          },
          "metadata": {},
          "execution_count": 60
        }
      ],
      "source": [
        "# Checking the data\n",
        "data"
      ]
    },
    {
      "cell_type": "markdown",
      "metadata": {
        "id": "I64SgDqChs38"
      },
      "source": [
        "Cleaning the data only needed for the research question"
      ]
    },
    {
      "cell_type": "code",
      "execution_count": null,
      "metadata": {
        "id": "pf2iu4yILW2S"
      },
      "outputs": [],
      "source": [
        "# Creating a subset dataframe that is needed for the research question\n",
        "newData= data[['Type','Transmission','Power_HP','Price','Vehicle_model','Currency']]"
      ]
    },
    {
      "cell_type": "code",
      "execution_count": null,
      "metadata": {
        "colab": {
          "base_uri": "https://localhost:8080/"
        },
        "id": "TZ9jNt_tfvY6",
        "outputId": "395cf5c4-6d5a-42ca-b0d9-f6529ddf8bac"
      },
      "outputs": [
        {
          "output_type": "execute_result",
          "data": {
            "text/plain": [
              "Type               0\n",
              "Transmission     479\n",
              "Power_HP         643\n",
              "Price              0\n",
              "Vehicle_model      0\n",
              "Currency           0\n",
              "dtype: int64"
            ]
          },
          "metadata": {},
          "execution_count": 62
        }
      ],
      "source": [
        "#Missing values in the data\n",
        "nullData=newData.isnull().sum()\n",
        "nullData"
      ]
    },
    {
      "cell_type": "code",
      "execution_count": null,
      "metadata": {
        "colab": {
          "base_uri": "https://localhost:8080/"
        },
        "id": "olxUAoMngdcI",
        "outputId": "739d2b42-31a7-4811-8e0d-0bed57ea476a"
      },
      "outputs": [
        {
          "output_type": "execute_result",
          "data": {
            "text/plain": [
              "0.08977263998771028"
            ]
          },
          "metadata": {},
          "execution_count": 63
        }
      ],
      "source": [
        "# Percentage of missing data: ---> 0% of data are null values\n",
        "data_count = np.product(newData.shape)\n",
        "(nullData.sum()/data_count)*100"
      ]
    },
    {
      "cell_type": "code",
      "execution_count": null,
      "metadata": {
        "colab": {
          "base_uri": "https://localhost:8080/"
        },
        "id": "sRB7scDusjOt",
        "outputId": "1a57f289-9480-48fe-986c-5794298be3cb"
      },
      "outputs": [
        {
          "output_type": "execute_result",
          "data": {
            "text/plain": [
              "Type             0.000000\n",
              "Transmission     0.229952\n",
              "Power_HP         0.308683\n",
              "Price            0.000000\n",
              "Vehicle_model    0.000000\n",
              "Currency         0.000000\n",
              "dtype: float64"
            ]
          },
          "metadata": {},
          "execution_count": 64
        }
      ],
      "source": [
        "# Percentage of missing data in each column to make sure that all the data exist\n",
        "newData.isnull().sum() / newData.shape[0] * 100"
      ]
    },
    {
      "cell_type": "code",
      "execution_count": null,
      "metadata": {
        "colab": {
          "base_uri": "https://localhost:8080/"
        },
        "id": "POXSF4rHMdne",
        "outputId": "175b311f-5de2-41ff-e06a-5b3a3642ba61"
      },
      "outputs": [
        {
          "output_type": "execute_result",
          "data": {
            "text/plain": [
              "Type             0.0\n",
              "Transmission     0.0\n",
              "Power_HP         0.0\n",
              "Price            0.0\n",
              "Vehicle_model    0.0\n",
              "Currency         0.0\n",
              "dtype: float64"
            ]
          },
          "metadata": {},
          "execution_count": 65
        }
      ],
      "source": [
        "# Since the percentage error is approximate 0% we will drop all rows which have missing values\n",
        "newData= newData.dropna(axis=0)\n",
        "# Ensuring that there are no missing values\n",
        "newData.isnull().sum() / newData.shape[0] * 100\n"
      ]
    },
    {
      "cell_type": "code",
      "execution_count": null,
      "metadata": {
        "colab": {
          "base_uri": "https://localhost:8080/",
          "height": 617
        },
        "id": "th9Ldt1kNRBr",
        "outputId": "b2d09537-9a9e-4294-e6e0-77e857be07f2"
      },
      "outputs": [
        {
          "output_type": "stream",
          "name": "stderr",
          "text": [
            "<ipython-input-66-eabdb576f5e0>:7: SettingWithCopyWarning: \n",
            "A value is trying to be set on a copy of a slice from a DataFrame\n",
            "\n",
            "See the caveats in the documentation: https://pandas.pydata.org/pandas-docs/stable/user_guide/indexing.html#returning-a-view-versus-a-copy\n",
            "  (newData['Price'][newData['Currency'] == 'PLN'])= (newData['Price'][newData['Currency'] == 'PLN'])*0.2\n",
            "<ipython-input-66-eabdb576f5e0>:8: SettingWithCopyWarning: \n",
            "A value is trying to be set on a copy of a slice from a DataFrame\n",
            "\n",
            "See the caveats in the documentation: https://pandas.pydata.org/pandas-docs/stable/user_guide/indexing.html#returning-a-view-versus-a-copy\n",
            "  (newData['Price'][newData['Currency'] == 'EUR'])= (newData['Price'][newData['Currency'] == 'EUR'])*1.05\n"
          ]
        },
        {
          "output_type": "execute_result",
          "data": {
            "text/plain": [
              "                 Type Transmission  Power_HP    Price Vehicle_model Currency\n",
              "0          small_cars       Manual     145.0  17240.0           595      PLN\n",
              "1               coupe       Manual      75.0   8700.0         Other      PLN\n",
              "2          small_cars    Automatic     180.0   8980.0           500      PLN\n",
              "3          small_cars       Manual     160.0   7980.0           500      PLN\n",
              "4          small_cars       Manual     165.0  19580.0           595      PLN\n",
              "...               ...          ...       ...      ...           ...      ...\n",
              "208299     small_cars       Manual     173.0   7980.0         Other      PLN\n",
              "208300  station_wagon       Manual      70.0   2180.0         Other      PLN\n",
              "208301            SUV       Manual      60.0   1380.0         Other      PLN\n",
              "208302        minivan       Manual      36.0   1140.0         Other      PLN\n",
              "208303        minivan       Manual      70.0   2380.0         Other      PLN\n",
              "\n",
              "[207521 rows x 6 columns]"
            ],
            "text/html": [
              "\n",
              "  <div id=\"df-e84c9e1d-eac4-4738-b92e-261979cb92fd\">\n",
              "    <div class=\"colab-df-container\">\n",
              "      <div>\n",
              "<style scoped>\n",
              "    .dataframe tbody tr th:only-of-type {\n",
              "        vertical-align: middle;\n",
              "    }\n",
              "\n",
              "    .dataframe tbody tr th {\n",
              "        vertical-align: top;\n",
              "    }\n",
              "\n",
              "    .dataframe thead th {\n",
              "        text-align: right;\n",
              "    }\n",
              "</style>\n",
              "<table border=\"1\" class=\"dataframe\">\n",
              "  <thead>\n",
              "    <tr style=\"text-align: right;\">\n",
              "      <th></th>\n",
              "      <th>Type</th>\n",
              "      <th>Transmission</th>\n",
              "      <th>Power_HP</th>\n",
              "      <th>Price</th>\n",
              "      <th>Vehicle_model</th>\n",
              "      <th>Currency</th>\n",
              "    </tr>\n",
              "  </thead>\n",
              "  <tbody>\n",
              "    <tr>\n",
              "      <th>0</th>\n",
              "      <td>small_cars</td>\n",
              "      <td>Manual</td>\n",
              "      <td>145.0</td>\n",
              "      <td>17240.0</td>\n",
              "      <td>595</td>\n",
              "      <td>PLN</td>\n",
              "    </tr>\n",
              "    <tr>\n",
              "      <th>1</th>\n",
              "      <td>coupe</td>\n",
              "      <td>Manual</td>\n",
              "      <td>75.0</td>\n",
              "      <td>8700.0</td>\n",
              "      <td>Other</td>\n",
              "      <td>PLN</td>\n",
              "    </tr>\n",
              "    <tr>\n",
              "      <th>2</th>\n",
              "      <td>small_cars</td>\n",
              "      <td>Automatic</td>\n",
              "      <td>180.0</td>\n",
              "      <td>8980.0</td>\n",
              "      <td>500</td>\n",
              "      <td>PLN</td>\n",
              "    </tr>\n",
              "    <tr>\n",
              "      <th>3</th>\n",
              "      <td>small_cars</td>\n",
              "      <td>Manual</td>\n",
              "      <td>160.0</td>\n",
              "      <td>7980.0</td>\n",
              "      <td>500</td>\n",
              "      <td>PLN</td>\n",
              "    </tr>\n",
              "    <tr>\n",
              "      <th>4</th>\n",
              "      <td>small_cars</td>\n",
              "      <td>Manual</td>\n",
              "      <td>165.0</td>\n",
              "      <td>19580.0</td>\n",
              "      <td>595</td>\n",
              "      <td>PLN</td>\n",
              "    </tr>\n",
              "    <tr>\n",
              "      <th>...</th>\n",
              "      <td>...</td>\n",
              "      <td>...</td>\n",
              "      <td>...</td>\n",
              "      <td>...</td>\n",
              "      <td>...</td>\n",
              "      <td>...</td>\n",
              "    </tr>\n",
              "    <tr>\n",
              "      <th>208299</th>\n",
              "      <td>small_cars</td>\n",
              "      <td>Manual</td>\n",
              "      <td>173.0</td>\n",
              "      <td>7980.0</td>\n",
              "      <td>Other</td>\n",
              "      <td>PLN</td>\n",
              "    </tr>\n",
              "    <tr>\n",
              "      <th>208300</th>\n",
              "      <td>station_wagon</td>\n",
              "      <td>Manual</td>\n",
              "      <td>70.0</td>\n",
              "      <td>2180.0</td>\n",
              "      <td>Other</td>\n",
              "      <td>PLN</td>\n",
              "    </tr>\n",
              "    <tr>\n",
              "      <th>208301</th>\n",
              "      <td>SUV</td>\n",
              "      <td>Manual</td>\n",
              "      <td>60.0</td>\n",
              "      <td>1380.0</td>\n",
              "      <td>Other</td>\n",
              "      <td>PLN</td>\n",
              "    </tr>\n",
              "    <tr>\n",
              "      <th>208302</th>\n",
              "      <td>minivan</td>\n",
              "      <td>Manual</td>\n",
              "      <td>36.0</td>\n",
              "      <td>1140.0</td>\n",
              "      <td>Other</td>\n",
              "      <td>PLN</td>\n",
              "    </tr>\n",
              "    <tr>\n",
              "      <th>208303</th>\n",
              "      <td>minivan</td>\n",
              "      <td>Manual</td>\n",
              "      <td>70.0</td>\n",
              "      <td>2380.0</td>\n",
              "      <td>Other</td>\n",
              "      <td>PLN</td>\n",
              "    </tr>\n",
              "  </tbody>\n",
              "</table>\n",
              "<p>207521 rows × 6 columns</p>\n",
              "</div>\n",
              "      <button class=\"colab-df-convert\" onclick=\"convertToInteractive('df-e84c9e1d-eac4-4738-b92e-261979cb92fd')\"\n",
              "              title=\"Convert this dataframe to an interactive table.\"\n",
              "              style=\"display:none;\">\n",
              "        \n",
              "  <svg xmlns=\"http://www.w3.org/2000/svg\" height=\"24px\"viewBox=\"0 0 24 24\"\n",
              "       width=\"24px\">\n",
              "    <path d=\"M0 0h24v24H0V0z\" fill=\"none\"/>\n",
              "    <path d=\"M18.56 5.44l.94 2.06.94-2.06 2.06-.94-2.06-.94-.94-2.06-.94 2.06-2.06.94zm-11 1L8.5 8.5l.94-2.06 2.06-.94-2.06-.94L8.5 2.5l-.94 2.06-2.06.94zm10 10l.94 2.06.94-2.06 2.06-.94-2.06-.94-.94-2.06-.94 2.06-2.06.94z\"/><path d=\"M17.41 7.96l-1.37-1.37c-.4-.4-.92-.59-1.43-.59-.52 0-1.04.2-1.43.59L10.3 9.45l-7.72 7.72c-.78.78-.78 2.05 0 2.83L4 21.41c.39.39.9.59 1.41.59.51 0 1.02-.2 1.41-.59l7.78-7.78 2.81-2.81c.8-.78.8-2.07 0-2.86zM5.41 20L4 18.59l7.72-7.72 1.47 1.35L5.41 20z\"/>\n",
              "  </svg>\n",
              "      </button>\n",
              "      \n",
              "  <style>\n",
              "    .colab-df-container {\n",
              "      display:flex;\n",
              "      flex-wrap:wrap;\n",
              "      gap: 12px;\n",
              "    }\n",
              "\n",
              "    .colab-df-convert {\n",
              "      background-color: #E8F0FE;\n",
              "      border: none;\n",
              "      border-radius: 50%;\n",
              "      cursor: pointer;\n",
              "      display: none;\n",
              "      fill: #1967D2;\n",
              "      height: 32px;\n",
              "      padding: 0 0 0 0;\n",
              "      width: 32px;\n",
              "    }\n",
              "\n",
              "    .colab-df-convert:hover {\n",
              "      background-color: #E2EBFA;\n",
              "      box-shadow: 0px 1px 2px rgba(60, 64, 67, 0.3), 0px 1px 3px 1px rgba(60, 64, 67, 0.15);\n",
              "      fill: #174EA6;\n",
              "    }\n",
              "\n",
              "    [theme=dark] .colab-df-convert {\n",
              "      background-color: #3B4455;\n",
              "      fill: #D2E3FC;\n",
              "    }\n",
              "\n",
              "    [theme=dark] .colab-df-convert:hover {\n",
              "      background-color: #434B5C;\n",
              "      box-shadow: 0px 1px 3px 1px rgba(0, 0, 0, 0.15);\n",
              "      filter: drop-shadow(0px 1px 2px rgba(0, 0, 0, 0.3));\n",
              "      fill: #FFFFFF;\n",
              "    }\n",
              "  </style>\n",
              "\n",
              "      <script>\n",
              "        const buttonEl =\n",
              "          document.querySelector('#df-e84c9e1d-eac4-4738-b92e-261979cb92fd button.colab-df-convert');\n",
              "        buttonEl.style.display =\n",
              "          google.colab.kernel.accessAllowed ? 'block' : 'none';\n",
              "\n",
              "        async function convertToInteractive(key) {\n",
              "          const element = document.querySelector('#df-e84c9e1d-eac4-4738-b92e-261979cb92fd');\n",
              "          const dataTable =\n",
              "            await google.colab.kernel.invokeFunction('convertToInteractive',\n",
              "                                                     [key], {});\n",
              "          if (!dataTable) return;\n",
              "\n",
              "          const docLinkHtml = 'Like what you see? Visit the ' +\n",
              "            '<a target=\"_blank\" href=https://colab.research.google.com/notebooks/data_table.ipynb>data table notebook</a>'\n",
              "            + ' to learn more about interactive tables.';\n",
              "          element.innerHTML = '';\n",
              "          dataTable['output_type'] = 'display_data';\n",
              "          await google.colab.output.renderOutput(dataTable, element);\n",
              "          const docLink = document.createElement('div');\n",
              "          docLink.innerHTML = docLinkHtml;\n",
              "          element.appendChild(docLink);\n",
              "        }\n",
              "      </script>\n",
              "    </div>\n",
              "  </div>\n",
              "  "
            ]
          },
          "metadata": {},
          "execution_count": 66
        }
      ],
      "source": [
        "# Generalizing the price to be in dollars:\n",
        "\n",
        "# Checking what type of currencies do we have in the dataset -> PLN=0.2$ EUR=1.05$\n",
        "newData.Currency.unique()\n",
        "\n",
        "#Converting the price column based on the currency \n",
        "(newData['Price'][newData['Currency'] == 'PLN'])= (newData['Price'][newData['Currency'] == 'PLN'])*0.2 \n",
        "(newData['Price'][newData['Currency'] == 'EUR'])= (newData['Price'][newData['Currency'] == 'EUR'])*1.05\n",
        "                                                                  \n",
        "newData"
      ]
    },
    {
      "cell_type": "markdown",
      "metadata": {
        "id": "sUcOuLSoB5me"
      },
      "source": [
        "Start analysing and visualizing the data "
      ]
    },
    {
      "cell_type": "code",
      "execution_count": null,
      "metadata": {
        "colab": {
          "base_uri": "https://localhost:8080/"
        },
        "id": "Lt30oTApYpSJ",
        "outputId": "870107aa-0675-4394-86e5-80593b1c32ee"
      },
      "outputs": [
        {
          "output_type": "execute_result",
          "data": {
            "text/plain": [
              "SUV              41479\n",
              "station_wagon    40121\n",
              "Name: Type, dtype: int64"
            ]
          },
          "metadata": {},
          "execution_count": 67
        }
      ],
      "source": [
        "# Getting the most 2 frequent types of cars used:\n",
        "newData['Type'].value_counts()[0:2]"
      ]
    },
    {
      "cell_type": "code",
      "source": [
        "# Filtering the data to get the only the two types of cars needed\n",
        "df= newData[['Type','Transmission','Price','Power_HP']]\n",
        "x=df.loc[(df['Type'] != 'station_wagon') & (df['Type'] != 'SUV')].index\n",
        "x\n",
        "df.drop(x , inplace = True )\n",
        "df"
      ],
      "metadata": {
        "colab": {
          "base_uri": "https://localhost:8080/",
          "height": 530
        },
        "id": "KGud3UPzXLU6",
        "outputId": "7bba2091-e485-4a51-83ee-f593c1d18e94"
      },
      "execution_count": null,
      "outputs": [
        {
          "output_type": "stream",
          "name": "stderr",
          "text": [
            "/usr/local/lib/python3.8/dist-packages/pandas/core/frame.py:4906: SettingWithCopyWarning: \n",
            "A value is trying to be set on a copy of a slice from a DataFrame\n",
            "\n",
            "See the caveats in the documentation: https://pandas.pydata.org/pandas-docs/stable/user_guide/indexing.html#returning-a-view-versus-a-copy\n",
            "  return super().drop(\n"
          ]
        },
        {
          "output_type": "execute_result",
          "data": {
            "text/plain": [
              "                 Type Transmission    Price  Power_HP\n",
              "57                SUV    Automatic  14200.0     273.0\n",
              "59                SUV    Automatic  10400.0     300.0\n",
              "61                SUV    Automatic  14800.0     201.0\n",
              "62                SUV    Automatic   7380.0     300.0\n",
              "63                SUV    Automatic  11980.0     315.0\n",
              "...               ...          ...      ...       ...\n",
              "208269            SUV    Automatic   3720.0     163.0\n",
              "208270  station_wagon       Manual   4980.0     136.0\n",
              "208271            SUV    Automatic  30896.0     197.0\n",
              "208300  station_wagon       Manual   2180.0      70.0\n",
              "208301            SUV       Manual   1380.0      60.0\n",
              "\n",
              "[81600 rows x 4 columns]"
            ],
            "text/html": [
              "\n",
              "  <div id=\"df-ba853f1e-8fb1-4eb5-bbf4-66dde481c13d\">\n",
              "    <div class=\"colab-df-container\">\n",
              "      <div>\n",
              "<style scoped>\n",
              "    .dataframe tbody tr th:only-of-type {\n",
              "        vertical-align: middle;\n",
              "    }\n",
              "\n",
              "    .dataframe tbody tr th {\n",
              "        vertical-align: top;\n",
              "    }\n",
              "\n",
              "    .dataframe thead th {\n",
              "        text-align: right;\n",
              "    }\n",
              "</style>\n",
              "<table border=\"1\" class=\"dataframe\">\n",
              "  <thead>\n",
              "    <tr style=\"text-align: right;\">\n",
              "      <th></th>\n",
              "      <th>Type</th>\n",
              "      <th>Transmission</th>\n",
              "      <th>Price</th>\n",
              "      <th>Power_HP</th>\n",
              "    </tr>\n",
              "  </thead>\n",
              "  <tbody>\n",
              "    <tr>\n",
              "      <th>57</th>\n",
              "      <td>SUV</td>\n",
              "      <td>Automatic</td>\n",
              "      <td>14200.0</td>\n",
              "      <td>273.0</td>\n",
              "    </tr>\n",
              "    <tr>\n",
              "      <th>59</th>\n",
              "      <td>SUV</td>\n",
              "      <td>Automatic</td>\n",
              "      <td>10400.0</td>\n",
              "      <td>300.0</td>\n",
              "    </tr>\n",
              "    <tr>\n",
              "      <th>61</th>\n",
              "      <td>SUV</td>\n",
              "      <td>Automatic</td>\n",
              "      <td>14800.0</td>\n",
              "      <td>201.0</td>\n",
              "    </tr>\n",
              "    <tr>\n",
              "      <th>62</th>\n",
              "      <td>SUV</td>\n",
              "      <td>Automatic</td>\n",
              "      <td>7380.0</td>\n",
              "      <td>300.0</td>\n",
              "    </tr>\n",
              "    <tr>\n",
              "      <th>63</th>\n",
              "      <td>SUV</td>\n",
              "      <td>Automatic</td>\n",
              "      <td>11980.0</td>\n",
              "      <td>315.0</td>\n",
              "    </tr>\n",
              "    <tr>\n",
              "      <th>...</th>\n",
              "      <td>...</td>\n",
              "      <td>...</td>\n",
              "      <td>...</td>\n",
              "      <td>...</td>\n",
              "    </tr>\n",
              "    <tr>\n",
              "      <th>208269</th>\n",
              "      <td>SUV</td>\n",
              "      <td>Automatic</td>\n",
              "      <td>3720.0</td>\n",
              "      <td>163.0</td>\n",
              "    </tr>\n",
              "    <tr>\n",
              "      <th>208270</th>\n",
              "      <td>station_wagon</td>\n",
              "      <td>Manual</td>\n",
              "      <td>4980.0</td>\n",
              "      <td>136.0</td>\n",
              "    </tr>\n",
              "    <tr>\n",
              "      <th>208271</th>\n",
              "      <td>SUV</td>\n",
              "      <td>Automatic</td>\n",
              "      <td>30896.0</td>\n",
              "      <td>197.0</td>\n",
              "    </tr>\n",
              "    <tr>\n",
              "      <th>208300</th>\n",
              "      <td>station_wagon</td>\n",
              "      <td>Manual</td>\n",
              "      <td>2180.0</td>\n",
              "      <td>70.0</td>\n",
              "    </tr>\n",
              "    <tr>\n",
              "      <th>208301</th>\n",
              "      <td>SUV</td>\n",
              "      <td>Manual</td>\n",
              "      <td>1380.0</td>\n",
              "      <td>60.0</td>\n",
              "    </tr>\n",
              "  </tbody>\n",
              "</table>\n",
              "<p>81600 rows × 4 columns</p>\n",
              "</div>\n",
              "      <button class=\"colab-df-convert\" onclick=\"convertToInteractive('df-ba853f1e-8fb1-4eb5-bbf4-66dde481c13d')\"\n",
              "              title=\"Convert this dataframe to an interactive table.\"\n",
              "              style=\"display:none;\">\n",
              "        \n",
              "  <svg xmlns=\"http://www.w3.org/2000/svg\" height=\"24px\"viewBox=\"0 0 24 24\"\n",
              "       width=\"24px\">\n",
              "    <path d=\"M0 0h24v24H0V0z\" fill=\"none\"/>\n",
              "    <path d=\"M18.56 5.44l.94 2.06.94-2.06 2.06-.94-2.06-.94-.94-2.06-.94 2.06-2.06.94zm-11 1L8.5 8.5l.94-2.06 2.06-.94-2.06-.94L8.5 2.5l-.94 2.06-2.06.94zm10 10l.94 2.06.94-2.06 2.06-.94-2.06-.94-.94-2.06-.94 2.06-2.06.94z\"/><path d=\"M17.41 7.96l-1.37-1.37c-.4-.4-.92-.59-1.43-.59-.52 0-1.04.2-1.43.59L10.3 9.45l-7.72 7.72c-.78.78-.78 2.05 0 2.83L4 21.41c.39.39.9.59 1.41.59.51 0 1.02-.2 1.41-.59l7.78-7.78 2.81-2.81c.8-.78.8-2.07 0-2.86zM5.41 20L4 18.59l7.72-7.72 1.47 1.35L5.41 20z\"/>\n",
              "  </svg>\n",
              "      </button>\n",
              "      \n",
              "  <style>\n",
              "    .colab-df-container {\n",
              "      display:flex;\n",
              "      flex-wrap:wrap;\n",
              "      gap: 12px;\n",
              "    }\n",
              "\n",
              "    .colab-df-convert {\n",
              "      background-color: #E8F0FE;\n",
              "      border: none;\n",
              "      border-radius: 50%;\n",
              "      cursor: pointer;\n",
              "      display: none;\n",
              "      fill: #1967D2;\n",
              "      height: 32px;\n",
              "      padding: 0 0 0 0;\n",
              "      width: 32px;\n",
              "    }\n",
              "\n",
              "    .colab-df-convert:hover {\n",
              "      background-color: #E2EBFA;\n",
              "      box-shadow: 0px 1px 2px rgba(60, 64, 67, 0.3), 0px 1px 3px 1px rgba(60, 64, 67, 0.15);\n",
              "      fill: #174EA6;\n",
              "    }\n",
              "\n",
              "    [theme=dark] .colab-df-convert {\n",
              "      background-color: #3B4455;\n",
              "      fill: #D2E3FC;\n",
              "    }\n",
              "\n",
              "    [theme=dark] .colab-df-convert:hover {\n",
              "      background-color: #434B5C;\n",
              "      box-shadow: 0px 1px 3px 1px rgba(0, 0, 0, 0.15);\n",
              "      filter: drop-shadow(0px 1px 2px rgba(0, 0, 0, 0.3));\n",
              "      fill: #FFFFFF;\n",
              "    }\n",
              "  </style>\n",
              "\n",
              "      <script>\n",
              "        const buttonEl =\n",
              "          document.querySelector('#df-ba853f1e-8fb1-4eb5-bbf4-66dde481c13d button.colab-df-convert');\n",
              "        buttonEl.style.display =\n",
              "          google.colab.kernel.accessAllowed ? 'block' : 'none';\n",
              "\n",
              "        async function convertToInteractive(key) {\n",
              "          const element = document.querySelector('#df-ba853f1e-8fb1-4eb5-bbf4-66dde481c13d');\n",
              "          const dataTable =\n",
              "            await google.colab.kernel.invokeFunction('convertToInteractive',\n",
              "                                                     [key], {});\n",
              "          if (!dataTable) return;\n",
              "\n",
              "          const docLinkHtml = 'Like what you see? Visit the ' +\n",
              "            '<a target=\"_blank\" href=https://colab.research.google.com/notebooks/data_table.ipynb>data table notebook</a>'\n",
              "            + ' to learn more about interactive tables.';\n",
              "          element.innerHTML = '';\n",
              "          dataTable['output_type'] = 'display_data';\n",
              "          await google.colab.output.renderOutput(dataTable, element);\n",
              "          const docLink = document.createElement('div');\n",
              "          docLink.innerHTML = docLinkHtml;\n",
              "          element.appendChild(docLink);\n",
              "        }\n",
              "      </script>\n",
              "    </div>\n",
              "  </div>\n",
              "  "
            ]
          },
          "metadata": {},
          "execution_count": 68
        }
      ]
    },
    {
      "cell_type": "code",
      "execution_count": null,
      "metadata": {
        "colab": {
          "base_uri": "https://localhost:8080/"
        },
        "id": "FobFz1gkJ9Vf",
        "outputId": "d7456d86-bacc-4d9f-8b4a-0124a3ce7f8d"
      },
      "outputs": [
        {
          "output_type": "execute_result",
          "data": {
            "text/plain": [
              "Type               2\n",
              "Transmission       2\n",
              "Price           9344\n",
              "Power_HP         401\n",
              "dtype: int64"
            ]
          },
          "metadata": {},
          "execution_count": 69
        }
      ],
      "source": [
        "# Unique values in the dataset\n",
        "df.nunique()"
      ]
    },
    {
      "cell_type": "code",
      "source": [
        "# Handling outliers in power and price\n",
        "sns.boxplot(x = df['Power_HP'])\n",
        "plt.show()"
      ],
      "metadata": {
        "colab": {
          "base_uri": "https://localhost:8080/",
          "height": 280
        },
        "id": "L7h-mgFgcFcz",
        "outputId": "08747784-a6b4-45fa-aaa2-072295caf86e"
      },
      "execution_count": null,
      "outputs": [
        {
          "output_type": "display_data",
          "data": {
            "text/plain": [
              "<Figure size 432x288 with 1 Axes>"
            ],
            "image/png": "[encoded data removed]"
          },
          "metadata": {
            "needs_background": "light"
          }
        }
      ]
    },
    {
      "cell_type": "code",
      "source": [
        "df['Power_HP'].describe()"
      ],
      "metadata": {
        "colab": {
          "base_uri": "https://localhost:8080/"
        },
        "id": "xfXIi5Q0dfL3",
        "outputId": "7c1f0f9f-be4e-41f2-d59f-01466365e826"
      },
      "execution_count": null,
      "outputs": [
        {
          "output_type": "execute_result",
          "data": {
            "text/plain": [
              "count    81600.000000\n",
              "mean       166.347341\n",
              "std         68.391088\n",
              "min          1.000000\n",
              "25%        125.000000\n",
              "50%        150.000000\n",
              "75%        185.000000\n",
              "max       1300.000000\n",
              "Name: Power_HP, dtype: float64"
            ]
          },
          "metadata": {},
          "execution_count": 71
        }
      ]
    },
    {
      "cell_type": "code",
      "source": [
        "q1=125\n",
        "q2=150\n",
        "q3=185\n",
        "iqr=q3-q1\n",
        "ub=q3+(1.5*iqr)\n",
        "lb=q1-(1.5*iqr)\n",
        "print( ub, lb,iqr)"
      ],
      "metadata": {
        "colab": {
          "base_uri": "https://localhost:8080/"
        },
        "id": "Lo9YBHL9diYR",
        "outputId": "61ab8c11-cfbc-4a6b-ad81-a8d3e3b9caa0"
      },
      "execution_count": null,
      "outputs": [
        {
          "output_type": "stream",
          "name": "stdout",
          "text": [
            "275.0 35.0 60\n"
          ]
        }
      ]
    },
    {
      "cell_type": "code",
      "source": [
        "df['condition']=( df['Power_HP']> 275) | ( df['Power_HP']<35)"
      ],
      "metadata": {
        "colab": {
          "base_uri": "https://localhost:8080/"
        },
        "id": "_EQbO5QMeCyq",
        "outputId": "336c0a4c-4d5a-4cab-c06a-3957f907b50c"
      },
      "execution_count": null,
      "outputs": [
        {
          "output_type": "stream",
          "name": "stderr",
          "text": [
            "<ipython-input-73-7a67aa3f1cc3>:1: SettingWithCopyWarning: \n",
            "A value is trying to be set on a copy of a slice from a DataFrame.\n",
            "Try using .loc[row_indexer,col_indexer] = value instead\n",
            "\n",
            "See the caveats in the documentation: https://pandas.pydata.org/pandas-docs/stable/user_guide/indexing.html#returning-a-view-versus-a-copy\n",
            "  df['condition']=( df['Power_HP']> 275) | ( df['Power_HP']<35)\n"
          ]
        }
      ]
    },
    {
      "cell_type": "code",
      "source": [
        "m=df[df[\"condition\"]].index\n",
        "print(m)\n",
        "df.drop(m, inplace=True)"
      ],
      "metadata": {
        "colab": {
          "base_uri": "https://localhost:8080/"
        },
        "id": "OR59datweVKx",
        "outputId": "300bceb4-d9d1-4213-ecac-6ed62d5ba2cd"
      },
      "execution_count": null,
      "outputs": [
        {
          "output_type": "stream",
          "name": "stdout",
          "text": [
            "Int64Index([    59,     62,     63,     64,     67,     68,     69,     70,\n",
            "                72,    208,\n",
            "            ...\n",
            "            208067, 208088, 208109, 208114, 208138, 208155, 208175, 208214,\n",
            "            208247, 208253],\n",
            "           dtype='int64', length=5529)\n"
          ]
        },
        {
          "output_type": "stream",
          "name": "stderr",
          "text": [
            "/usr/local/lib/python3.8/dist-packages/pandas/core/frame.py:4906: SettingWithCopyWarning: \n",
            "A value is trying to be set on a copy of a slice from a DataFrame\n",
            "\n",
            "See the caveats in the documentation: https://pandas.pydata.org/pandas-docs/stable/user_guide/indexing.html#returning-a-view-versus-a-copy\n",
            "  return super().drop(\n"
          ]
        }
      ]
    },
    {
      "cell_type": "code",
      "source": [
        "#Data after dropping Power_HP outliers \n",
        "df"
      ],
      "metadata": {
        "colab": {
          "base_uri": "https://localhost:8080/",
          "height": 424
        },
        "id": "kFUgmN5nediP",
        "outputId": "b24f4a50-7753-4e1c-efd6-7f74e6d6756e"
      },
      "execution_count": null,
      "outputs": [
        {
          "output_type": "execute_result",
          "data": {
            "text/plain": [
              "                 Type Transmission    Price  Power_HP  condition\n",
              "57                SUV    Automatic  14200.0     273.0      False\n",
              "61                SUV    Automatic  14800.0     201.0      False\n",
              "65                SUV    Automatic  11580.0     270.0      False\n",
              "206     station_wagon       Manual   3580.0     140.0      False\n",
              "215     station_wagon    Automatic   4580.0     200.0      False\n",
              "...               ...          ...      ...       ...        ...\n",
              "208269            SUV    Automatic   3720.0     163.0      False\n",
              "208270  station_wagon       Manual   4980.0     136.0      False\n",
              "208271            SUV    Automatic  30896.0     197.0      False\n",
              "208300  station_wagon       Manual   2180.0      70.0      False\n",
              "208301            SUV       Manual   1380.0      60.0      False\n",
              "\n",
              "[76071 rows x 5 columns]"
            ],
            "text/html": [
              "\n",
              "  <div id=\"df-910a0a77-bcd8-480c-94da-92265d99bcfe\">\n",
              "    <div class=\"colab-df-container\">\n",
              "      <div>\n",
              "<style scoped>\n",
              "    .dataframe tbody tr th:only-of-type {\n",
              "        vertical-align: middle;\n",
              "    }\n",
              "\n",
              "    .dataframe tbody tr th {\n",
              "        vertical-align: top;\n",
              "    }\n",
              "\n",
              "    .dataframe thead th {\n",
              "        text-align: right;\n",
              "    }\n",
              "</style>\n",
              "<table border=\"1\" class=\"dataframe\">\n",
              "  <thead>\n",
              "    <tr style=\"text-align: right;\">\n",
              "      <th></th>\n",
              "      <th>Type</th>\n",
              "      <th>Transmission</th>\n",
              "      <th>Price</th>\n",
              "      <th>Power_HP</th>\n",
              "      <th>condition</th>\n",
              "    </tr>\n",
              "  </thead>\n",
              "  <tbody>\n",
              "    <tr>\n",
              "      <th>57</th>\n",
              "      <td>SUV</td>\n",
              "      <td>Automatic</td>\n",
              "      <td>14200.0</td>\n",
              "      <td>273.0</td>\n",
              "      <td>False</td>\n",
              "    </tr>\n",
              "    <tr>\n",
              "      <th>61</th>\n",
              "      <td>SUV</td>\n",
              "      <td>Automatic</td>\n",
              "      <td>14800.0</td>\n",
              "      <td>201.0</td>\n",
              "      <td>False</td>\n",
              "    </tr>\n",
              "    <tr>\n",
              "      <th>65</th>\n",
              "      <td>SUV</td>\n",
              "      <td>Automatic</td>\n",
              "      <td>11580.0</td>\n",
              "      <td>270.0</td>\n",
              "      <td>False</td>\n",
              "    </tr>\n",
              "    <tr>\n",
              "      <th>206</th>\n",
              "      <td>station_wagon</td>\n",
              "      <td>Manual</td>\n",
              "      <td>3580.0</td>\n",
              "      <td>140.0</td>\n",
              "      <td>False</td>\n",
              "    </tr>\n",
              "    <tr>\n",
              "      <th>215</th>\n",
              "      <td>station_wagon</td>\n",
              "      <td>Automatic</td>\n",
              "      <td>4580.0</td>\n",
              "      <td>200.0</td>\n",
              "      <td>False</td>\n",
              "    </tr>\n",
              "    <tr>\n",
              "      <th>...</th>\n",
              "      <td>...</td>\n",
              "      <td>...</td>\n",
              "      <td>...</td>\n",
              "      <td>...</td>\n",
              "      <td>...</td>\n",
              "    </tr>\n",
              "    <tr>\n",
              "      <th>208269</th>\n",
              "      <td>SUV</td>\n",
              "      <td>Automatic</td>\n",
              "      <td>3720.0</td>\n",
              "      <td>163.0</td>\n",
              "      <td>False</td>\n",
              "    </tr>\n",
              "    <tr>\n",
              "      <th>208270</th>\n",
              "      <td>station_wagon</td>\n",
              "      <td>Manual</td>\n",
              "      <td>4980.0</td>\n",
              "      <td>136.0</td>\n",
              "      <td>False</td>\n",
              "    </tr>\n",
              "    <tr>\n",
              "      <th>208271</th>\n",
              "      <td>SUV</td>\n",
              "      <td>Automatic</td>\n",
              "      <td>30896.0</td>\n",
              "      <td>197.0</td>\n",
              "      <td>False</td>\n",
              "    </tr>\n",
              "    <tr>\n",
              "      <th>208300</th>\n",
              "      <td>station_wagon</td>\n",
              "      <td>Manual</td>\n",
              "      <td>2180.0</td>\n",
              "      <td>70.0</td>\n",
              "      <td>False</td>\n",
              "    </tr>\n",
              "    <tr>\n",
              "      <th>208301</th>\n",
              "      <td>SUV</td>\n",
              "      <td>Manual</td>\n",
              "      <td>1380.0</td>\n",
              "      <td>60.0</td>\n",
              "      <td>False</td>\n",
              "    </tr>\n",
              "  </tbody>\n",
              "</table>\n",
              "<p>76071 rows × 5 columns</p>\n",
              "</div>\n",
              "      <button class=\"colab-df-convert\" onclick=\"convertToInteractive('df-910a0a77-bcd8-480c-94da-92265d99bcfe')\"\n",
              "              title=\"Convert this dataframe to an interactive table.\"\n",
              "              style=\"display:none;\">\n",
              "        \n",
              "  <svg xmlns=\"http://www.w3.org/2000/svg\" height=\"24px\"viewBox=\"0 0 24 24\"\n",
              "       width=\"24px\">\n",
              "    <path d=\"M0 0h24v24H0V0z\" fill=\"none\"/>\n",
              "    <path d=\"M18.56 5.44l.94 2.06.94-2.06 2.06-.94-2.06-.94-.94-2.06-.94 2.06-2.06.94zm-11 1L8.5 8.5l.94-2.06 2.06-.94-2.06-.94L8.5 2.5l-.94 2.06-2.06.94zm10 10l.94 2.06.94-2.06 2.06-.94-2.06-.94-.94-2.06-.94 2.06-2.06.94z\"/><path d=\"M17.41 7.96l-1.37-1.37c-.4-.4-.92-.59-1.43-.59-.52 0-1.04.2-1.43.59L10.3 9.45l-7.72 7.72c-.78.78-.78 2.05 0 2.83L4 21.41c.39.39.9.59 1.41.59.51 0 1.02-.2 1.41-.59l7.78-7.78 2.81-2.81c.8-.78.8-2.07 0-2.86zM5.41 20L4 18.59l7.72-7.72 1.47 1.35L5.41 20z\"/>\n",
              "  </svg>\n",
              "      </button>\n",
              "      \n",
              "  <style>\n",
              "    .colab-df-container {\n",
              "      display:flex;\n",
              "      flex-wrap:wrap;\n",
              "      gap: 12px;\n",
              "    }\n",
              "\n",
              "    .colab-df-convert {\n",
              "      background-color: #E8F0FE;\n",
              "      border: none;\n",
              "      border-radius: 50%;\n",
              "      cursor: pointer;\n",
              "      display: none;\n",
              "      fill: #1967D2;\n",
              "      height: 32px;\n",
              "      padding: 0 0 0 0;\n",
              "      width: 32px;\n",
              "    }\n",
              "\n",
              "    .colab-df-convert:hover {\n",
              "      background-color: #E2EBFA;\n",
              "      box-shadow: 0px 1px 2px rgba(60, 64, 67, 0.3), 0px 1px 3px 1px rgba(60, 64, 67, 0.15);\n",
              "      fill: #174EA6;\n",
              "    }\n",
              "\n",
              "    [theme=dark] .colab-df-convert {\n",
              "      background-color: #3B4455;\n",
              "      fill: #D2E3FC;\n",
              "    }\n",
              "\n",
              "    [theme=dark] .colab-df-convert:hover {\n",
              "      background-color: #434B5C;\n",
              "      box-shadow: 0px 1px 3px 1px rgba(0, 0, 0, 0.15);\n",
              "      filter: drop-shadow(0px 1px 2px rgba(0, 0, 0, 0.3));\n",
              "      fill: #FFFFFF;\n",
              "    }\n",
              "  </style>\n",
              "\n",
              "      <script>\n",
              "        const buttonEl =\n",
              "          document.querySelector('#df-910a0a77-bcd8-480c-94da-92265d99bcfe button.colab-df-convert');\n",
              "        buttonEl.style.display =\n",
              "          google.colab.kernel.accessAllowed ? 'block' : 'none';\n",
              "\n",
              "        async function convertToInteractive(key) {\n",
              "          const element = document.querySelector('#df-910a0a77-bcd8-480c-94da-92265d99bcfe');\n",
              "          const dataTable =\n",
              "            await google.colab.kernel.invokeFunction('convertToInteractive',\n",
              "                                                     [key], {});\n",
              "          if (!dataTable) return;\n",
              "\n",
              "          const docLinkHtml = 'Like what you see? Visit the ' +\n",
              "            '<a target=\"_blank\" href=https://colab.research.google.com/notebooks/data_table.ipynb>data table notebook</a>'\n",
              "            + ' to learn more about interactive tables.';\n",
              "          element.innerHTML = '';\n",
              "          dataTable['output_type'] = 'display_data';\n",
              "          await google.colab.output.renderOutput(dataTable, element);\n",
              "          const docLink = document.createElement('div');\n",
              "          docLink.innerHTML = docLinkHtml;\n",
              "          element.appendChild(docLink);\n",
              "        }\n",
              "      </script>\n",
              "    </div>\n",
              "  </div>\n",
              "  "
            ]
          },
          "metadata": {},
          "execution_count": 75
        }
      ]
    },
    {
      "cell_type": "code",
      "source": [
        "df['Price'].sort_values(ascending=False).head()\n"
      ],
      "metadata": {
        "colab": {
          "base_uri": "https://localhost:8080/"
        },
        "id": "irHGWKFDekwX",
        "outputId": "aa902ae4-06d4-4144-8839-092ee48523ef"
      },
      "execution_count": null,
      "outputs": [
        {
          "output_type": "execute_result",
          "data": {
            "text/plain": [
              "32304     1399800.0\n",
              "90963      144322.5\n",
              "183142     139999.8\n",
              "178999     139980.0\n",
              "132595     139980.0\n",
              "Name: Price, dtype: float64"
            ]
          },
          "metadata": {},
          "execution_count": 76
        }
      ]
    },
    {
      "cell_type": "code",
      "source": [
        "#Going to drop index 32304 as it is definelty an outlier\n",
        "df.drop(32304, inplace=True)\n",
        "df.drop(90963, inplace=True)\n",
        "df.drop(90972, inplace=True)\n"
      ],
      "metadata": {
        "colab": {
          "base_uri": "https://localhost:8080/"
        },
        "id": "ecRsIaxYe-Ym",
        "outputId": "282cec85-9a3f-4f5c-c529-5fa5f8e558f4"
      },
      "execution_count": null,
      "outputs": [
        {
          "output_type": "stream",
          "name": "stderr",
          "text": [
            "/usr/local/lib/python3.8/dist-packages/pandas/core/frame.py:4906: SettingWithCopyWarning: \n",
            "A value is trying to be set on a copy of a slice from a DataFrame\n",
            "\n",
            "See the caveats in the documentation: https://pandas.pydata.org/pandas-docs/stable/user_guide/indexing.html#returning-a-view-versus-a-copy\n",
            "  return super().drop(\n"
          ]
        }
      ]
    },
    {
      "cell_type": "code",
      "source": [
        "# After dropping prices outliers and dropping the condition column\n",
        "df=df.drop(['condition'], axis=1)\n",
        "df"
      ],
      "metadata": {
        "colab": {
          "base_uri": "https://localhost:8080/",
          "height": 424
        },
        "id": "kDJ-Y3cHfm3H",
        "outputId": "b2fd91e4-801d-4612-e1ed-6e6106e66801"
      },
      "execution_count": null,
      "outputs": [
        {
          "output_type": "execute_result",
          "data": {
            "text/plain": [
              "                 Type Transmission    Price  Power_HP\n",
              "57                SUV    Automatic  14200.0     273.0\n",
              "61                SUV    Automatic  14800.0     201.0\n",
              "65                SUV    Automatic  11580.0     270.0\n",
              "206     station_wagon       Manual   3580.0     140.0\n",
              "215     station_wagon    Automatic   4580.0     200.0\n",
              "...               ...          ...      ...       ...\n",
              "208269            SUV    Automatic   3720.0     163.0\n",
              "208270  station_wagon       Manual   4980.0     136.0\n",
              "208271            SUV    Automatic  30896.0     197.0\n",
              "208300  station_wagon       Manual   2180.0      70.0\n",
              "208301            SUV       Manual   1380.0      60.0\n",
              "\n",
              "[76068 rows x 4 columns]"
            ],
            "text/html": [
              "\n",
              "  <div id=\"df-59770ee6-ead4-4ae3-9402-00eb59b5db04\">\n",
              "    <div class=\"colab-df-container\">\n",
              "      <div>\n",
              "<style scoped>\n",
              "    .dataframe tbody tr th:only-of-type {\n",
              "        vertical-align: middle;\n",
              "    }\n",
              "\n",
              "    .dataframe tbody tr th {\n",
              "        vertical-align: top;\n",
              "    }\n",
              "\n",
              "    .dataframe thead th {\n",
              "        text-align: right;\n",
              "    }\n",
              "</style>\n",
              "<table border=\"1\" class=\"dataframe\">\n",
              "  <thead>\n",
              "    <tr style=\"text-align: right;\">\n",
              "      <th></th>\n",
              "      <th>Type</th>\n",
              "      <th>Transmission</th>\n",
              "      <th>Price</th>\n",
              "      <th>Power_HP</th>\n",
              "    </tr>\n",
              "  </thead>\n",
              "  <tbody>\n",
              "    <tr>\n",
              "      <th>57</th>\n",
              "      <td>SUV</td>\n",
              "      <td>Automatic</td>\n",
              "      <td>14200.0</td>\n",
              "      <td>273.0</td>\n",
              "    </tr>\n",
              "    <tr>\n",
              "      <th>61</th>\n",
              "      <td>SUV</td>\n",
              "      <td>Automatic</td>\n",
              "      <td>14800.0</td>\n",
              "      <td>201.0</td>\n",
              "    </tr>\n",
              "    <tr>\n",
              "      <th>65</th>\n",
              "      <td>SUV</td>\n",
              "      <td>Automatic</td>\n",
              "      <td>11580.0</td>\n",
              "      <td>270.0</td>\n",
              "    </tr>\n",
              "    <tr>\n",
              "      <th>206</th>\n",
              "      <td>station_wagon</td>\n",
              "      <td>Manual</td>\n",
              "      <td>3580.0</td>\n",
              "      <td>140.0</td>\n",
              "    </tr>\n",
              "    <tr>\n",
              "      <th>215</th>\n",
              "      <td>station_wagon</td>\n",
              "      <td>Automatic</td>\n",
              "      <td>4580.0</td>\n",
              "      <td>200.0</td>\n",
              "    </tr>\n",
              "    <tr>\n",
              "      <th>...</th>\n",
              "      <td>...</td>\n",
              "      <td>...</td>\n",
              "      <td>...</td>\n",
              "      <td>...</td>\n",
              "    </tr>\n",
              "    <tr>\n",
              "      <th>208269</th>\n",
              "      <td>SUV</td>\n",
              "      <td>Automatic</td>\n",
              "      <td>3720.0</td>\n",
              "      <td>163.0</td>\n",
              "    </tr>\n",
              "    <tr>\n",
              "      <th>208270</th>\n",
              "      <td>station_wagon</td>\n",
              "      <td>Manual</td>\n",
              "      <td>4980.0</td>\n",
              "      <td>136.0</td>\n",
              "    </tr>\n",
              "    <tr>\n",
              "      <th>208271</th>\n",
              "      <td>SUV</td>\n",
              "      <td>Automatic</td>\n",
              "      <td>30896.0</td>\n",
              "      <td>197.0</td>\n",
              "    </tr>\n",
              "    <tr>\n",
              "      <th>208300</th>\n",
              "      <td>station_wagon</td>\n",
              "      <td>Manual</td>\n",
              "      <td>2180.0</td>\n",
              "      <td>70.0</td>\n",
              "    </tr>\n",
              "    <tr>\n",
              "      <th>208301</th>\n",
              "      <td>SUV</td>\n",
              "      <td>Manual</td>\n",
              "      <td>1380.0</td>\n",
              "      <td>60.0</td>\n",
              "    </tr>\n",
              "  </tbody>\n",
              "</table>\n",
              "<p>76068 rows × 4 columns</p>\n",
              "</div>\n",
              "      <button class=\"colab-df-convert\" onclick=\"convertToInteractive('df-59770ee6-ead4-4ae3-9402-00eb59b5db04')\"\n",
              "              title=\"Convert this dataframe to an interactive table.\"\n",
              "              style=\"display:none;\">\n",
              "        \n",
              "  <svg xmlns=\"http://www.w3.org/2000/svg\" height=\"24px\"viewBox=\"0 0 24 24\"\n",
              "       width=\"24px\">\n",
              "    <path d=\"M0 0h24v24H0V0z\" fill=\"none\"/>\n",
              "    <path d=\"M18.56 5.44l.94 2.06.94-2.06 2.06-.94-2.06-.94-.94-2.06-.94 2.06-2.06.94zm-11 1L8.5 8.5l.94-2.06 2.06-.94-2.06-.94L8.5 2.5l-.94 2.06-2.06.94zm10 10l.94 2.06.94-2.06 2.06-.94-2.06-.94-.94-2.06-.94 2.06-2.06.94z\"/><path d=\"M17.41 7.96l-1.37-1.37c-.4-.4-.92-.59-1.43-.59-.52 0-1.04.2-1.43.59L10.3 9.45l-7.72 7.72c-.78.78-.78 2.05 0 2.83L4 21.41c.39.39.9.59 1.41.59.51 0 1.02-.2 1.41-.59l7.78-7.78 2.81-2.81c.8-.78.8-2.07 0-2.86zM5.41 20L4 18.59l7.72-7.72 1.47 1.35L5.41 20z\"/>\n",
              "  </svg>\n",
              "      </button>\n",
              "      \n",
              "  <style>\n",
              "    .colab-df-container {\n",
              "      display:flex;\n",
              "      flex-wrap:wrap;\n",
              "      gap: 12px;\n",
              "    }\n",
              "\n",
              "    .colab-df-convert {\n",
              "      background-color: #E8F0FE;\n",
              "      border: none;\n",
              "      border-radius: 50%;\n",
              "      cursor: pointer;\n",
              "      display: none;\n",
              "      fill: #1967D2;\n",
              "      height: 32px;\n",
              "      padding: 0 0 0 0;\n",
              "      width: 32px;\n",
              "    }\n",
              "\n",
              "    .colab-df-convert:hover {\n",
              "      background-color: #E2EBFA;\n",
              "      box-shadow: 0px 1px 2px rgba(60, 64, 67, 0.3), 0px 1px 3px 1px rgba(60, 64, 67, 0.15);\n",
              "      fill: #174EA6;\n",
              "    }\n",
              "\n",
              "    [theme=dark] .colab-df-convert {\n",
              "      background-color: #3B4455;\n",
              "      fill: #D2E3FC;\n",
              "    }\n",
              "\n",
              "    [theme=dark] .colab-df-convert:hover {\n",
              "      background-color: #434B5C;\n",
              "      box-shadow: 0px 1px 3px 1px rgba(0, 0, 0, 0.15);\n",
              "      filter: drop-shadow(0px 1px 2px rgba(0, 0, 0, 0.3));\n",
              "      fill: #FFFFFF;\n",
              "    }\n",
              "  </style>\n",
              "\n",
              "      <script>\n",
              "        const buttonEl =\n",
              "          document.querySelector('#df-59770ee6-ead4-4ae3-9402-00eb59b5db04 button.colab-df-convert');\n",
              "        buttonEl.style.display =\n",
              "          google.colab.kernel.accessAllowed ? 'block' : 'none';\n",
              "\n",
              "        async function convertToInteractive(key) {\n",
              "          const element = document.querySelector('#df-59770ee6-ead4-4ae3-9402-00eb59b5db04');\n",
              "          const dataTable =\n",
              "            await google.colab.kernel.invokeFunction('convertToInteractive',\n",
              "                                                     [key], {});\n",
              "          if (!dataTable) return;\n",
              "\n",
              "          const docLinkHtml = 'Like what you see? Visit the ' +\n",
              "            '<a target=\"_blank\" href=https://colab.research.google.com/notebooks/data_table.ipynb>data table notebook</a>'\n",
              "            + ' to learn more about interactive tables.';\n",
              "          element.innerHTML = '';\n",
              "          dataTable['output_type'] = 'display_data';\n",
              "          await google.colab.output.renderOutput(dataTable, element);\n",
              "          const docLink = document.createElement('div');\n",
              "          docLink.innerHTML = docLinkHtml;\n",
              "          element.appendChild(docLink);\n",
              "        }\n",
              "      </script>\n",
              "    </div>\n",
              "  </div>\n",
              "  "
            ]
          },
          "metadata": {},
          "execution_count": 78
        }
      ]
    },
    {
      "cell_type": "code",
      "execution_count": null,
      "metadata": {
        "colab": {
          "base_uri": "https://localhost:8080/",
          "height": 297
        },
        "id": "KCxs269XCKvo",
        "outputId": "a306bb6b-0214-4d2e-9295-5c22ee262d73"
      },
      "outputs": [
        {
          "output_type": "execute_result",
          "data": {
            "text/plain": [
              "<matplotlib.axes._subplots.AxesSubplot at 0x7f21dd82a970>"
            ]
          },
          "metadata": {},
          "execution_count": 79
        },
        {
          "output_type": "display_data",
          "data": {
            "text/plain": [
              "<Figure size 432x288 with 1 Axes>"
            ],
            "image/png": "[encoded data removed]"
          },
          "metadata": {
            "needs_background": "light"
          }
        }
      ],
      "source": [
        "# Clearly the SUV is sold at higher prices than the wagon whether it is automatic or manual\n",
        "sns.barplot(data=df, y=\"Price\", x=\"Type\", hue=\"Transmission\")"
      ]
    },
    {
      "cell_type": "code",
      "execution_count": null,
      "metadata": {
        "colab": {
          "base_uri": "https://localhost:8080/",
          "height": 297
        },
        "id": "Y0u_b4ElXjeJ",
        "outputId": "26ab9546-2ea4-47e2-c64d-da39232c5094"
      },
      "outputs": [
        {
          "output_type": "execute_result",
          "data": {
            "text/plain": [
              "<matplotlib.axes._subplots.AxesSubplot at 0x7f21ddb92400>"
            ]
          },
          "metadata": {},
          "execution_count": 80
        },
        {
          "output_type": "display_data",
          "data": {
            "text/plain": [
              "<Figure size 432x288 with 1 Axes>"
            ],
            "image/png": "[encoded data removed]"
          },
          "metadata": {
            "needs_background": "light"
          }
        }
      ],
      "source": [
        "# Automatic cars have higher horse power than manual cars\n",
        "# SUV has higher horse power than the station Wagon in both transmission\n",
        "sns.barplot(data=df, y=\"Power_HP\", x=\"Type\", hue=\"Transmission\")\n",
        "#ax.set_xticklabels(ax.get_xticklabels(), rotation=40, ha=\"right\")"
      ]
    },
    {
      "cell_type": "markdown",
      "metadata": {
        "id": "rYHSyQ38EOnR"
      },
      "source": [
        "How does the horsepower affect the price?"
      ]
    },
    {
      "cell_type": "code",
      "execution_count": null,
      "metadata": {
        "colab": {
          "base_uri": "https://localhost:8080/",
          "height": 623
        },
        "id": "QXxtuIvbEVNO",
        "outputId": "5dfa1bd5-2212-404c-9301-6d7da44b6bc3"
      },
      "outputs": [
        {
          "output_type": "execute_result",
          "data": {
            "text/plain": [
              "Text(0, 0.5, 'Price')"
            ]
          },
          "metadata": {},
          "execution_count": 81
        },
        {
          "output_type": "display_data",
          "data": {
            "text/plain": [
              "<Figure size 720x720 with 1 Axes>"
            ],
            "image/png": "[encoded data removed]"
          },
          "metadata": {
            "needs_background": "light"
          }
        }
      ],
      "source": [
        "# As horse power increase price increase\n",
        "plt.figure(figsize=(10,10))\n",
        "plt.scatter(x='Power_HP',y='Price',data=df)\n",
        "plt.xlabel('Horsepower')\n",
        "plt.ylabel('Price')"
      ]
    },
    {
      "cell_type": "code",
      "source": [
        "# In Automatic cars:\n",
        "# As Price increase power increase\n",
        "# In Automatic cars the suv has higher increase in price and power than station wagon\n",
        "# In Manual cars:\n",
        "# The graph is continuous, indicating that there is no direct relationship betweem the price and power in both types of cars\n",
        "g = sns.FacetGrid(df, col=\"Transmission\", hue='Type')\n",
        "g.map(sns.scatterplot,\"Price\",\"Power_HP\", alpha=.7)\n",
        "g.add_legend()"
      ],
      "metadata": {
        "colab": {
          "base_uri": "https://localhost:8080/",
          "height": 242
        },
        "id": "j2ZzqtTTiAo7",
        "outputId": "23d27ce0-19d7-41b4-f62c-37612c35a129"
      },
      "execution_count": null,
      "outputs": [
        {
          "output_type": "execute_result",
          "data": {
            "text/plain": [
              "<seaborn.axisgrid.FacetGrid at 0x7f219dfc1e80>"
            ]
          },
          "metadata": {},
          "execution_count": 89
        },
        {
          "output_type": "display_data",
          "data": {
            "text/plain": [
              "<Figure size 540.375x216 with 2 Axes>"
            ],
            "image/png": "[encoded data removed]"
          },
          "metadata": {
            "needs_background": "light"
          }
        }
      ]
    }
  ],
  "metadata": {
    "colab": {
      "provenance": []
    },
    "kernelspec": {
      "display_name": "Python 3",
      "name": "python3"
    },
    "language_info": {
      "name": "python"
    }
  },
  "nbformat": 4,
  "nbformat_minor": 0
}